{
 "cells": [
  {
   "cell_type": "markdown",
   "id": "02050e76-3d37-4c5a-8514-9bae4459c365",
   "metadata": {},
   "source": [
    "Problem #2: Emoticon Problem\n",
    "\n",
    "Create a function that changes specific words into emoticons. Given a sentence as a string, replace the words smile, grin, sad and mad with their corresponding emoticon\n"
   ]
  },
  {
   "cell_type": "code",
   "execution_count": 11,
   "id": "100cc61b-7815-4040-bb81-48919debe5e6",
   "metadata": {},
   "outputs": [
    {
     "name": "stdin",
     "output_type": "stream",
     "text": [
      "Enter a phrase:  make me smile\n"
     ]
    },
    {
     "ename": "NameError",
     "evalue": "name 'smile' is not defined",
     "output_type": "error",
     "traceback": [
      "\u001b[1;31m---------------------------------------------------------------------------\u001b[0m",
      "\u001b[1;31mNameError\u001b[0m                                 Traceback (most recent call last)",
      "Cell \u001b[1;32mIn[11], line 16\u001b[0m\n\u001b[0;32m     13\u001b[0m     \u001b[38;5;28;01mreturn\u001b[39;00m characters\n\u001b[0;32m     15\u001b[0m n \u001b[38;5;241m=\u001b[39m \u001b[38;5;28minput\u001b[39m (\u001b[38;5;124m\"\u001b[39m\u001b[38;5;124mEnter a phrase: \u001b[39m\u001b[38;5;124m\"\u001b[39m)\n\u001b[1;32m---> 16\u001b[0m \u001b[38;5;28mprint\u001b[39m ( n , emoticons(n))\n",
      "Cell \u001b[1;32mIn[11], line 5\u001b[0m, in \u001b[0;36memoticons\u001b[1;34m(e)\u001b[0m\n\u001b[0;32m      1\u001b[0m \u001b[38;5;28;01mdef\u001b[39;00m \u001b[38;5;21memoticons\u001b[39m(e):\n\u001b[0;32m      3\u001b[0m     characters \u001b[38;5;241m=\u001b[39m \u001b[38;5;124m\"\u001b[39m\u001b[38;5;124m\"\u001b[39m\n\u001b[1;32m----> 5\u001b[0m     \u001b[38;5;28;01mif\u001b[39;00m characters \u001b[38;5;241m==\u001b[39m smile:\n\u001b[0;32m      6\u001b[0m         \u001b[38;5;28mprint\u001b[39m (\u001b[38;5;124m\"\u001b[39m\u001b[38;5;124m:)\u001b[39m\u001b[38;5;124m\"\u001b[39m)\n\u001b[0;32m      7\u001b[0m     \u001b[38;5;28;01melif\u001b[39;00m characters \u001b[38;5;241m==\u001b[39m grin: \n",
      "\u001b[1;31mNameError\u001b[0m: name 'smile' is not defined"
     ]
    }
   ],
   "source": [
    "def emoticons(e):\n",
    "\n",
    "    characters = \"\"\n",
    "\n",
    "    if characters == smile:\n",
    "        print (\":)\")\n",
    "    elif characters == grin: \n",
    "        print (\":D\")\n",
    "    elif characters == sad:\n",
    "        print (\":((\")\n",
    "    elif characters == mad:\n",
    "        print (\">:(\")\n",
    "    return characters\n",
    "\n",
    "n = input (\"Enter a phrase: \")\n",
    "print ( n , emoticons(n))"
   ]
  },
  {
   "cell_type": "markdown",
   "id": "3c0d9806-8a6e-43f2-9b89-25bd1eaf47e4",
   "metadata": {},
   "source": [
    "First Error: there was an invalid syntax and there 'smile' was not defined\n",
    "\n",
    "Proposed solution: trying .append for now"
   ]
  },
  {
   "cell_type": "code",
   "execution_count": 21,
   "id": "c512217b-f31e-4e6e-8f30-09c934d0714a",
   "metadata": {},
   "outputs": [
    {
     "name": "stdin",
     "output_type": "stream",
     "text": [
      "Enter a sentence:  make me smile please\n"
     ]
    },
    {
     "ename": "NameError",
     "evalue": "name 'word' is not defined",
     "output_type": "error",
     "traceback": [
      "\u001b[1;31m---------------------------------------------------------------------------\u001b[0m",
      "\u001b[1;31mNameError\u001b[0m                                 Traceback (most recent call last)",
      "Cell \u001b[1;32mIn[21], line 22\u001b[0m\n\u001b[0;32m     19\u001b[0m     \u001b[38;5;28;01mreturn\u001b[39;00m store_words\n\u001b[0;32m     21\u001b[0m n \u001b[38;5;241m=\u001b[39m \u001b[38;5;28minput\u001b[39m(\u001b[38;5;124m\"\u001b[39m\u001b[38;5;124mEnter a sentence: \u001b[39m\u001b[38;5;124m\"\u001b[39m)\n\u001b[1;32m---> 22\u001b[0m sentence \u001b[38;5;241m=\u001b[39m emoticons (n)\n\u001b[0;32m     23\u001b[0m \u001b[38;5;28mprint\u001b[39m (sentence)\n",
      "Cell \u001b[1;32mIn[21], line 17\u001b[0m, in \u001b[0;36memoticons\u001b[1;34m(e)\u001b[0m\n\u001b[0;32m     15\u001b[0m         store_words\u001b[38;5;241m.\u001b[39mappend(\u001b[38;5;124m\"\u001b[39m\u001b[38;5;124m>:(\u001b[39m\u001b[38;5;124m\"\u001b[39m)\n\u001b[0;32m     16\u001b[0m     \u001b[38;5;28;01melse\u001b[39;00m:\n\u001b[1;32m---> 17\u001b[0m         store_words \u001b[38;5;241m=\u001b[39m word\n\u001b[0;32m     19\u001b[0m \u001b[38;5;28;01mreturn\u001b[39;00m store_words\n",
      "\u001b[1;31mNameError\u001b[0m: name 'word' is not defined"
     ]
    }
   ],
   "source": [
    "def emoticons(e):\n",
    "\n",
    "    emotes = e.split()\n",
    "\n",
    "    store_words = []\n",
    "\n",
    "    for words in emotes:\n",
    "        if words == \"smile\" :\n",
    "            store_words.append(\":)\")\n",
    "        elif words == \"grin\" : \n",
    "            store_words.append(\":D\")\n",
    "        elif words == \"sad\":\n",
    "            store_words.append(\":((\")\n",
    "        elif words == \"mad\":\n",
    "            store_words.append(\">:(\")\n",
    "        else:\n",
    "            store_words = word\n",
    "        \n",
    "    return store_words\n",
    "\n",
    "n = input(\"Enter a sentence: \")\n",
    "sentence = emoticons (n)\n",
    "print (sentence)\n"
   ]
  },
  {
   "cell_type": "markdown",
   "id": "c94cb08f-1aee-4a21-b410-963e67cfcf6c",
   "metadata": {},
   "source": [
    "Second Error: the systeme says that 'word' is not defined"
   ]
  },
  {
   "cell_type": "code",
   "execution_count": 23,
   "id": "556cce7b-bfd9-4fc6-93b0-5077f0e8fbba",
   "metadata": {},
   "outputs": [
    {
     "name": "stdin",
     "output_type": "stream",
     "text": [
      "Enter a sentence:  make me smile\n"
     ]
    },
    {
     "ename": "AttributeError",
     "evalue": "'str' object has no attribute 'append'",
     "output_type": "error",
     "traceback": [
      "\u001b[1;31m---------------------------------------------------------------------------\u001b[0m",
      "\u001b[1;31mAttributeError\u001b[0m                            Traceback (most recent call last)",
      "Cell \u001b[1;32mIn[23], line 22\u001b[0m\n\u001b[0;32m     19\u001b[0m     \u001b[38;5;28;01mreturn\u001b[39;00m store_words\n\u001b[0;32m     21\u001b[0m n \u001b[38;5;241m=\u001b[39m \u001b[38;5;28minput\u001b[39m(\u001b[38;5;124m\"\u001b[39m\u001b[38;5;124mEnter a sentence: \u001b[39m\u001b[38;5;124m\"\u001b[39m)\n\u001b[1;32m---> 22\u001b[0m sentence \u001b[38;5;241m=\u001b[39m emoticons (n)\n\u001b[0;32m     23\u001b[0m \u001b[38;5;28mprint\u001b[39m (sentence)\n",
      "Cell \u001b[1;32mIn[23], line 9\u001b[0m, in \u001b[0;36memoticons\u001b[1;34m(e)\u001b[0m\n\u001b[0;32m      7\u001b[0m \u001b[38;5;28;01mfor\u001b[39;00m words \u001b[38;5;129;01min\u001b[39;00m emotes:\n\u001b[0;32m      8\u001b[0m     \u001b[38;5;28;01mif\u001b[39;00m words \u001b[38;5;241m==\u001b[39m \u001b[38;5;124m\"\u001b[39m\u001b[38;5;124msmile\u001b[39m\u001b[38;5;124m\"\u001b[39m :\n\u001b[1;32m----> 9\u001b[0m         store_words\u001b[38;5;241m.\u001b[39mappend(\u001b[38;5;124m\"\u001b[39m\u001b[38;5;124m:)\u001b[39m\u001b[38;5;124m\"\u001b[39m)\n\u001b[0;32m     10\u001b[0m     \u001b[38;5;28;01melif\u001b[39;00m words \u001b[38;5;241m==\u001b[39m \u001b[38;5;124m\"\u001b[39m\u001b[38;5;124mgrin\u001b[39m\u001b[38;5;124m\"\u001b[39m : \n\u001b[0;32m     11\u001b[0m         store_words\u001b[38;5;241m.\u001b[39mappend(\u001b[38;5;124m\"\u001b[39m\u001b[38;5;124m:D\u001b[39m\u001b[38;5;124m\"\u001b[39m)\n",
      "\u001b[1;31mAttributeError\u001b[0m: 'str' object has no attribute 'append'"
     ]
    }
   ],
   "source": [
    "def emoticons(e):\n",
    "\n",
    "    emotes = e.split()\n",
    "\n",
    "    store_words = []\n",
    "\n",
    "    for words in emotes:\n",
    "        if words == \"smile\" :\n",
    "            store_words.append(\":)\")\n",
    "        elif words == \"grin\" : \n",
    "            store_words.append(\":D\")\n",
    "        elif words == \"sad\":\n",
    "            store_words.append(\":((\")\n",
    "        elif words == \"mad\":\n",
    "            store_words.append(\">:(\")\n",
    "        else:\n",
    "            store_words = words\n",
    "        \n",
    "    return store_words\n",
    "\n",
    "n = input(\"Enter a sentence: \")\n",
    "sentence = emoticons (n)\n",
    "print (sentence)\n"
   ]
  },
  {
   "cell_type": "markdown",
   "id": "33b27cca-c1e7-41f1-bdd0-7bc8c62c9164",
   "metadata": {},
   "source": [
    "Third Error: there is a error in the end of the elif chain"
   ]
  },
  {
   "cell_type": "code",
   "execution_count": 26,
   "id": "569a2098-2f39-4ed6-ab19-1b5d248dae1e",
   "metadata": {},
   "outputs": [
    {
     "name": "stdin",
     "output_type": "stream",
     "text": [
      "Enter a sentence:  make me smile\n"
     ]
    },
    {
     "name": "stdout",
     "output_type": "stream",
     "text": [
      "['make', 'me', ':)']\n"
     ]
    }
   ],
   "source": [
    "def emoticons(e):\n",
    "\n",
    "    emotes = e.split()\n",
    "\n",
    "    store_words = []\n",
    "\n",
    "    for words in emotes:\n",
    "        if words == \"smile\" :\n",
    "            store_words.append(\":)\")\n",
    "        elif words == \"grin\" : \n",
    "            store_words.append(\":D\")\n",
    "        elif words == \"sad\":\n",
    "            store_words.append(\":((\")\n",
    "        elif words == \"mad\":\n",
    "            store_words.append(\">:(\")\n",
    "        else:\n",
    "            store_words.append(words)\n",
    "        \n",
    "    return store_words\n",
    "\n",
    "n = input(\"Enter a sentence: \")\n",
    "sentence = emoticons (n)\n",
    "print (sentence)\n"
   ]
  },
  {
   "cell_type": "markdown",
   "id": "4d8382c3-3ea2-44f1-9cb8-df3e032d9379",
   "metadata": {},
   "source": [
    "First Run: There seems to be a mistake in the ouput of the code, instead of printing it as a full setence, it gets separated by quotataion marks and commas"
   ]
  },
  {
   "cell_type": "code",
   "execution_count": 33,
   "id": "fc1fd2d4-a99c-4e42-9846-b1a041df2d68",
   "metadata": {},
   "outputs": [
    {
     "name": "stdin",
     "output_type": "stream",
     "text": [
      "Enter a sentence:  I am super mad\n"
     ]
    },
    {
     "name": "stdout",
     "output_type": "stream",
     "text": [
      "I am super >:(\n"
     ]
    }
   ],
   "source": [
    "def emoticons(e):\n",
    "\n",
    "    emotes = e.split()\n",
    "\n",
    "    store_words = []\n",
    "\n",
    "    for words in emotes:\n",
    "        if words == \"smile\" :\n",
    "            store_words.append(\":)\")\n",
    "        elif words == \"grin\" : \n",
    "            store_words.append(\":D\")\n",
    "        elif words == \"sad\":\n",
    "            store_words.append(\":((\")\n",
    "        elif words == \"mad\":\n",
    "            store_words.append(\">:(\")\n",
    "        else:\n",
    "            store_words.append(words)\n",
    "\n",
    "    result = \" \".join(store_words)\n",
    "    return result\n",
    "\n",
    "n = input(\"Enter a sentence: \")\n",
    "sentence = emoticons (n)\n",
    "print (sentence)\n"
   ]
  },
  {
   "cell_type": "markdown",
   "id": "e6ecb248-b9a4-47b6-848d-f0ceb4dd4240",
   "metadata": {},
   "source": [
    "Final run: success\n",
    "Solution: I researched if there is a way to connect words and remove the commas and quotation marks and it was a syntax called separator.join(), this syntax operates where it joins the strings with a specified separator (i.e. space, comma, etc) in a sentence."
   ]
  }
 ],
 "metadata": {
  "kernelspec": {
   "display_name": "Python 3 (ipykernel)",
   "language": "python",
   "name": "python3"
  },
  "language_info": {
   "codemirror_mode": {
    "name": "ipython",
    "version": 3
   },
   "file_extension": ".py",
   "mimetype": "text/x-python",
   "name": "python",
   "nbconvert_exporter": "python",
   "pygments_lexer": "ipython3",
   "version": "3.12.4"
  }
 },
 "nbformat": 4,
 "nbformat_minor": 5
}
