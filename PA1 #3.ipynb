{
 "cells": [
  {
   "cell_type": "markdown",
   "id": "5ec1a312-e7a1-48b0-b1e3-0bac334c8e63",
   "metadata": {},
   "source": [
    "Problem #3: Unpacking List Problem\n",
    "\n",
    "Unpack the list writeyourcodehere into three variables, being first, and last with middle being everything in between the first and last element. Then print all three variables\n"
   ]
  },
  {
   "cell_type": "code",
   "execution_count": 9,
   "id": "0a553439-18bc-4131-939c-f41f9618230d",
   "metadata": {},
   "outputs": [
    {
     "ename": "TypeError",
     "evalue": "list indices must be integers or slices, not tuple",
     "output_type": "error",
     "traceback": [
      "\u001b[1;31m---------------------------------------------------------------------------\u001b[0m",
      "\u001b[1;31mTypeError\u001b[0m                                 Traceback (most recent call last)",
      "Cell \u001b[1;32mIn[9], line 7\u001b[0m\n\u001b[0;32m      5\u001b[0m first_number \u001b[38;5;241m=\u001b[39m writeyourcodehere [\u001b[38;5;241m0\u001b[39m]\n\u001b[0;32m      6\u001b[0m \u001b[38;5;66;03m#get the middle numbers in the list\u001b[39;00m\n\u001b[1;32m----> 7\u001b[0m between_numbers \u001b[38;5;241m=\u001b[39m writeyourcodehere [\u001b[38;5;241m1\u001b[39m,\u001b[38;5;241m2\u001b[39m,\u001b[38;5;241m3\u001b[39m,\u001b[38;5;241m4\u001b[39m]\n\u001b[0;32m      8\u001b[0m \u001b[38;5;66;03m#get the last number in the list\u001b[39;00m\n\u001b[0;32m      9\u001b[0m last_number \u001b[38;5;241m=\u001b[39mwriteyourcodehere [\u001b[38;5;241m-\u001b[39m\u001b[38;5;241m1\u001b[39m]\n",
      "\u001b[1;31mTypeError\u001b[0m: list indices must be integers or slices, not tuple"
     ]
    }
   ],
   "source": [
    "#make a list \n",
    "writeyourcodehere = [1,2,3,4,5,6]\n",
    "\n",
    "#start at the first index which is zero\n",
    "first_number = writeyourcodehere [0]\n",
    "#get the middle numbers in the list\n",
    "between_numbers = writeyourcodehere [1,2,3,4]\n",
    "#get the last number in the list\n",
    "last_number =writeyourcodehere [-1]\n",
    "\n",
    "print (\"First:\",first_number)\n",
    "print (\"Middle:\",between_numbers)\n",
    "print (\"Last:\",last_number)"
   ]
  },
  {
   "cell_type": "markdown",
   "id": "e5a57071-237d-44c7-8db7-0840b319576c",
   "metadata": {},
   "source": [
    "First Error: system says that the list cannot be in tuple which is in the variable \"between_numbers\", it needs to be in slice\n",
    "\n",
    "Possible solution: change it to slice"
   ]
  },
  {
   "cell_type": "code",
   "execution_count": 12,
   "id": "b7a04627-3f36-452b-85d3-adfde07cc85e",
   "metadata": {},
   "outputs": [
    {
     "name": "stdout",
     "output_type": "stream",
     "text": [
      "First: 1\n",
      "Middle: [2, 3, 4, 5]\n",
      "Last: 6\n"
     ]
    }
   ],
   "source": [
    "#make a list \n",
    "writeyourcodehere = [1,2,3,4,5,6]\n",
    "\n",
    "#start at the first index which is zero\n",
    "first_number = writeyourcodehere [0]\n",
    "\n",
    "#get the middle numbers in the list\n",
    "#utilize the slice feature which gets states where to start getting the element in the list and also where to stop getting the element\n",
    "between_numbers = writeyourcodehere [1:-1]\n",
    "\n",
    "#get the last number in the list\n",
    "last_number =writeyourcodehere [-1]\n",
    "\n",
    "print (\"First:\",first_number)\n",
    "print (\"Middle:\",between_numbers)\n",
    "print (\"Last:\",last_number)"
   ]
  },
  {
   "cell_type": "code",
   "execution_count": null,
   "id": "fca81c31-d9c4-49f0-b769-234c6fa282e6",
   "metadata": {},
   "outputs": [],
   "source": [
    "First Run: Success!"
   ]
  }
 ],
 "metadata": {
  "kernelspec": {
   "display_name": "Python 3 (ipykernel)",
   "language": "python",
   "name": "python3"
  },
  "language_info": {
   "codemirror_mode": {
    "name": "ipython",
    "version": 3
   },
   "file_extension": ".py",
   "mimetype": "text/x-python",
   "name": "python",
   "nbconvert_exporter": "python",
   "pygments_lexer": "ipython3",
   "version": "3.12.4"
  }
 },
 "nbformat": 4,
 "nbformat_minor": 5
}
