{
 "cells": [
  {
   "cell_type": "markdown",
   "id": "e078e386-c42c-4258-a168-0f1f633c10c8",
   "metadata": {},
   "source": [
    "Problem #1\n",
    "\n",
    "Create a function that takes a string and returns a string with its letters in alphabetical order"
   ]
  },
  {
   "cell_type": "code",
   "execution_count": 11,
   "id": "ce25b066-b1fc-434a-984c-f959ba2441d8",
   "metadata": {},
   "outputs": [
    {
     "ename": "NameError",
     "evalue": "name 'n' is not defined",
     "output_type": "error",
     "traceback": [
      "\u001b[1;31m---------------------------------------------------------------------------\u001b[0m",
      "\u001b[1;31mNameError\u001b[0m                                 Traceback (most recent call last)",
      "Cell \u001b[1;32mIn[11], line 13\u001b[0m\n\u001b[0;32m      9\u001b[0m                 n \u001b[38;5;241m+\u001b[39m\u001b[38;5;241m=\u001b[39m letter\n\u001b[0;32m     11\u001b[0m     \u001b[38;5;28;01mreturn\u001b[39;00m n\n\u001b[1;32m---> 13\u001b[0m \u001b[38;5;28mprint\u001b[39m (\u001b[38;5;124m\"\u001b[39m\u001b[38;5;124mHello World --->\u001b[39m\u001b[38;5;124m\"\u001b[39m,n)\n",
      "\u001b[1;31mNameError\u001b[0m: name 'n' is not defined"
     ]
    }
   ],
   "source": [
    "def sortName(n):\n",
    "\n",
    "    string= \"\"\n",
    "\n",
    "    for word in \"Hello World\":\n",
    "\n",
    "        for ward in n:\n",
    "            if letter == word:\n",
    "                n += letter\n",
    "\n",
    "    return n\n",
    "\n",
    "print (\"Hello World --->\",n)"
   ]
  },
  {
   "cell_type": "markdown",
   "id": "e720c678-c3d4-4856-aba0-f56951c894b2",
   "metadata": {},
   "source": [
    "First error: system says that there is a error in line 9,11, and 13 saying that variable n is not defined."
   ]
  },
  {
   "cell_type": "code",
   "execution_count": 14,
   "id": "070b10e1-12c9-4b26-b25e-8422995725d6",
   "metadata": {},
   "outputs": [
    {
     "name": "stdout",
     "output_type": "stream",
     "text": [
      "Hello World ---> Hello World\n"
     ]
    }
   ],
   "source": [
    "def sortName(n):\n",
    "\n",
    "    \n",
    "    string= \"\"\n",
    "\n",
    "    for word in \"Hello World\":\n",
    "\n",
    "        for ward in n:\n",
    "            if letter == word:\n",
    "                n += letter\n",
    "\n",
    "    return n\n",
    "n = \"Hello World\"\n",
    "print (\"Hello World --->\",n)"
   ]
  },
  {
   "cell_type": "markdown",
   "id": "f7561e75-b4a7-4b5b-bde9-438710668b1f",
   "metadata": {},
   "source": [
    "First Run: Wrong output\n",
    "\n",
    "Comment: I think the problem is in the for loop wherein it shouldn't be the word that I am trying to put in backwards.\n",
    "\n",
    "Proposed Solution: put the alphabet in backwards in the for loop in 'word' so that in every loop that when it matches a letter it will print the word in backwards"
   ]
  },
  {
   "cell_type": "code",
   "execution_count": 19,
   "id": "b4470b89-13ef-4baf-91ed-1875236ea481",
   "metadata": {},
   "outputs": [
    {
     "name": "stdout",
     "output_type": "stream",
     "text": [
      "Hello World ---> Hello World\n"
     ]
    }
   ],
   "source": [
    "def sortName(n):\n",
    "\n",
    "    \n",
    "    string= \"\"\n",
    "\n",
    "    for word in \"zyxwvutsrqponmlkjihgfedcba\":\n",
    "\n",
    "        for ward in n:\n",
    "            if letter == word:\n",
    "                n += letter\n",
    "\n",
    "    return n\n",
    "n = \"Hello World\"\n",
    "print (\"Hello World --->\",n)"
   ]
  },
  {
   "cell_type": "markdown",
   "id": "ba18f04e-82d7-4589-9d24-b178c1511616",
   "metadata": {},
   "source": [
    "Second Run: Wrong output, solution did not work, trying something new"
   ]
  },
  {
   "cell_type": "code",
   "execution_count": 26,
   "id": "760555d6-e039-4623-a087-5a443da6221b",
   "metadata": {},
   "outputs": [
    {
     "ename": "NameError",
     "evalue": "name 'letter' is not defined",
     "output_type": "error",
     "traceback": [
      "\u001b[1;31m---------------------------------------------------------------------------\u001b[0m",
      "\u001b[1;31mNameError\u001b[0m                                 Traceback (most recent call last)",
      "Cell \u001b[1;32mIn[26], line 14\u001b[0m\n\u001b[0;32m     12\u001b[0m     \u001b[38;5;28;01mreturn\u001b[39;00m string\n\u001b[0;32m     13\u001b[0m n \u001b[38;5;241m=\u001b[39m \u001b[38;5;124m\"\u001b[39m\u001b[38;5;124mHello World\u001b[39m\u001b[38;5;124m\"\u001b[39m\n\u001b[1;32m---> 14\u001b[0m sort \u001b[38;5;241m=\u001b[39m sortName(n\u001b[38;5;241m.\u001b[39mlower())\n\u001b[0;32m     15\u001b[0m \u001b[38;5;28mprint\u001b[39m (\u001b[38;5;124m\"\u001b[39m\u001b[38;5;124mHello World --->\u001b[39m\u001b[38;5;124m\"\u001b[39m,n)\n",
      "Cell \u001b[1;32mIn[26], line 9\u001b[0m, in \u001b[0;36msortName\u001b[1;34m(n)\u001b[0m\n\u001b[0;32m      6\u001b[0m \u001b[38;5;28;01mfor\u001b[39;00m word \u001b[38;5;129;01min\u001b[39;00m \u001b[38;5;124m\"\u001b[39m\u001b[38;5;124mabcdefghijklmnopqrstuvwxyz\u001b[39m\u001b[38;5;124m\"\u001b[39m:\n\u001b[0;32m      8\u001b[0m     \u001b[38;5;28;01mfor\u001b[39;00m ward \u001b[38;5;129;01min\u001b[39;00m n:\n\u001b[1;32m----> 9\u001b[0m         \u001b[38;5;28;01mif\u001b[39;00m letter \u001b[38;5;241m==\u001b[39m word:\n\u001b[0;32m     10\u001b[0m             string \u001b[38;5;241m+\u001b[39m\u001b[38;5;241m=\u001b[39m letter\n\u001b[0;32m     12\u001b[0m \u001b[38;5;28;01mreturn\u001b[39;00m string\n",
      "\u001b[1;31mNameError\u001b[0m: name 'letter' is not defined"
     ]
    }
   ],
   "source": [
    "def sortName(n):\n",
    "\n",
    "    \n",
    "    string= \"\"\n",
    "\n",
    "    for word in \"abcdefghijklmnopqrstuvwxyz\":\n",
    "\n",
    "        for ward in n:\n",
    "            if ward == word:\n",
    "                string += letter\n",
    "\n",
    "    return string\n",
    "n = \"Hello World\"\n",
    "sort = sortName(n.lower())\n",
    "print (\"Hello World --->\",n)"
   ]
  },
  {
   "cell_type": "markdown",
   "id": "5e2ab51f-f3bc-4e44-982d-f571b6774f8b",
   "metadata": {},
   "source": [
    "Third Run: Didn't work again"
   ]
  },
  {
   "cell_type": "code",
   "execution_count": 30,
   "id": "41a7bc02-fa72-4f9a-909d-dd6f6700248e",
   "metadata": {},
   "outputs": [
    {
     "ename": "NameError",
     "evalue": "name 'letter' is not defined",
     "output_type": "error",
     "traceback": [
      "\u001b[1;31m---------------------------------------------------------------------------\u001b[0m",
      "\u001b[1;31mNameError\u001b[0m                                 Traceback (most recent call last)",
      "Cell \u001b[1;32mIn[30], line 14\u001b[0m\n\u001b[0;32m     12\u001b[0m     \u001b[38;5;28;01mreturn\u001b[39;00m string\n\u001b[0;32m     13\u001b[0m n \u001b[38;5;241m=\u001b[39m \u001b[38;5;124m\"\u001b[39m\u001b[38;5;124mHello World\u001b[39m\u001b[38;5;124m\"\u001b[39m\n\u001b[1;32m---> 14\u001b[0m sort \u001b[38;5;241m=\u001b[39m sortName(n\u001b[38;5;241m.\u001b[39mlower())\n\u001b[0;32m     15\u001b[0m \u001b[38;5;28mprint\u001b[39m (\u001b[38;5;124m\"\u001b[39m\u001b[38;5;124mHello World --->\u001b[39m\u001b[38;5;124m\"\u001b[39m,n)\n",
      "Cell \u001b[1;32mIn[30], line 10\u001b[0m, in \u001b[0;36msortName\u001b[1;34m(n)\u001b[0m\n\u001b[0;32m      8\u001b[0m     \u001b[38;5;28;01mfor\u001b[39;00m ward \u001b[38;5;129;01min\u001b[39;00m n:\n\u001b[0;32m      9\u001b[0m         \u001b[38;5;28;01mif\u001b[39;00m ward \u001b[38;5;241m==\u001b[39m word:\n\u001b[1;32m---> 10\u001b[0m             string \u001b[38;5;241m+\u001b[39m\u001b[38;5;241m=\u001b[39m letter\n\u001b[0;32m     12\u001b[0m \u001b[38;5;28;01mreturn\u001b[39;00m string\n",
      "\u001b[1;31mNameError\u001b[0m: name 'letter' is not defined"
     ]
    }
   ],
   "source": [
    "def sortName(n):\n",
    "\n",
    "    \n",
    "    string= \"\"\n",
    "\n",
    "    for word in \"abcdefghijklmnopqrstuvwxyz\":\n",
    "\n",
    "        for ward in n:\n",
    "            if ward == word:\n",
    "                string += letter\n",
    "\n",
    "    return string\n",
    "n = \"Hello World\"\n",
    "sort = sortName(n.lower())\n",
    "print (\"Hello World --->\",n)"
   ]
  },
  {
   "cell_type": "markdown",
   "id": "3b5f0994-ee39-4747-b4a1-6b9b0bf928b0",
   "metadata": {},
   "source": [
    "Second Error: there seems to be a problem in my variables\n",
    "\n",
    "Comments: There were also some line of codes that I have debugged for example, there were inconsistencies in my variables used"
   ]
  },
  {
   "cell_type": "code",
   "execution_count": 35,
   "id": "470e3431-5507-4401-892c-49b7d3f44ccf",
   "metadata": {},
   "outputs": [
    {
     "name": "stdout",
     "output_type": "stream",
     "text": [
      "Hello World ---> dehllloorw\n"
     ]
    }
   ],
   "source": [
    "def sortName(n):\n",
    "\n",
    "    \n",
    "    string= \"\"\n",
    "\n",
    "    for word in \"abcdefghijklmnopqrstuvwxyz\":\n",
    "\n",
    "        for ward in n:\n",
    "            if ward == word:\n",
    "                string += ward\n",
    "\n",
    "    return string\n",
    "n = \"Hello World\"\n",
    "sort = sortName(n.lower())\n",
    "print (\"Hello World --->\",sort)"
   ]
  },
  {
   "cell_type": "markdown",
   "id": "e5d27b4c-a2d0-44ed-891c-a2f8a749a235",
   "metadata": {},
   "source": [
    "Fourth Run: success \n",
    "\n",
    "solution: changed the variable in \"print()\" since it just concatanates the original word to itself so I changed it to the variable that calls the function which is \"sort\"\n"
   ]
  },
  {
   "cell_type": "code",
   "execution_count": 49,
   "id": "aa6a3601-43d3-4726-bd28-204629a3477e",
   "metadata": {},
   "outputs": [
    {
     "name": "stdin",
     "output_type": "stream",
     "text": [
      "Enter a word: riley\n"
     ]
    },
    {
     "name": "stdout",
     "output_type": "stream",
     "text": [
      "riley ------> eilry\n"
     ]
    }
   ],
   "source": [
    "#create a function\n",
    "def sortName(n): \n",
    "    \n",
    "    #create a variable that will store the letters in a word in alphabetical order\n",
    "    string= \"\" \n",
    "\n",
    "    #a for loop to loop through every letter alphabetically \n",
    "    for word in \"abcdefghijklmnopqrstuvwxyz\":\n",
    "\n",
    "        #a for loop that will find and match every letters in the word in the alphabhet typed by the user\n",
    "        for ward in n:\n",
    "            if ward == word: #\n",
    "                string += ward\n",
    "\n",
    "    return string #return the word in alphabetical order\n",
    "\n",
    "# ask user to input their own word\n",
    "n = input (\"Enter a word:\")\n",
    "\n",
    "# print the word given by the user along with the alphabetized word\n",
    "print (n ,\"------>\" ,sort)"
   ]
  },
  {
   "cell_type": "code",
   "execution_count": null,
   "id": "c74613f4-cbdc-40e1-a0bd-65965556b9f2",
   "metadata": {},
   "outputs": [],
   "source": [
    "Final Run: tried to improve it by letting the user enter their own"
   ]
  }
 ],
 "metadata": {
  "kernelspec": {
   "display_name": "Python 3 (ipykernel)",
   "language": "python",
   "name": "python3"
  },
  "language_info": {
   "codemirror_mode": {
    "name": "ipython",
    "version": 3
   },
   "file_extension": ".py",
   "mimetype": "text/x-python",
   "name": "python",
   "nbconvert_exporter": "python",
   "pygments_lexer": "ipython3",
   "version": "3.12.4"
  }
 },
 "nbformat": 4,
 "nbformat_minor": 5
}
