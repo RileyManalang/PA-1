{
 "cells": [
  {
   "cell_type": "markdown",
   "id": "486ea8da-c041-4f1c-83a2-2e96c2433a96",
   "metadata": {},
   "source": [
    "Problem #3: Unpacking List Problem\r\n",
    "\r\n",
    "Unpack the list writeyourcodehere into three variables, being first, and last with middle being everything in between the first and last element. Then print all three variables"
   ]
  },
  {
   "cell_type": "code",
   "execution_count": 3,
   "id": "417e1b43-8678-4309-997b-cc03605f425c",
   "metadata": {},
   "outputs": [
    {
     "ename": "TypeError",
     "evalue": "list indices must be integers or slices, not tuple",
     "output_type": "error",
     "traceback": [
      "\u001b[1;31m---------------------------------------------------------------------------\u001b[0m",
      "\u001b[1;31mTypeError\u001b[0m                                 Traceback (most recent call last)",
      "Cell \u001b[1;32mIn[3], line 7\u001b[0m\n\u001b[0;32m      5\u001b[0m first_number \u001b[38;5;241m=\u001b[39m writeyourcodehere [\u001b[38;5;241m0\u001b[39m]\n\u001b[0;32m      6\u001b[0m \u001b[38;5;66;03m#get the middle numbers in the list\u001b[39;00m\n\u001b[1;32m----> 7\u001b[0m between_numbers \u001b[38;5;241m=\u001b[39m writeyourcodehere [\u001b[38;5;241m1\u001b[39m,\u001b[38;5;241m2\u001b[39m,\u001b[38;5;241m3\u001b[39m,\u001b[38;5;241m4\u001b[39m]\n\u001b[0;32m      8\u001b[0m \u001b[38;5;66;03m#get the last number in the list\u001b[39;00m\n\u001b[0;32m      9\u001b[0m last_number \u001b[38;5;241m=\u001b[39mwriteyourcodehere [\u001b[38;5;241m-\u001b[39m\u001b[38;5;241m1\u001b[39m]\n",
      "\u001b[1;31mTypeError\u001b[0m: list indices must be integers or slices, not tuple"
     ]
    }
   ],
   "source": [
    "#make a list \n",
    "writeyourcodehere = [1,2,3,4,5,6]\n",
    "\n",
    "#start at the first index which is zero\n",
    "first_number = writeyourcodehere [0]\n",
    "#get the middle numbers in the list\n",
    "between_numbers = writeyourcodehere [1,2,3,4]\n",
    "#get the last number in the list\n",
    "last_number =writeyourcodehere [-1]\n",
    "\n",
    "print (\"First:\",first_number)\n",
    "print (\"Middle:\",between_numbers)\n",
    "print (\"Last:\",last_number)"
   ]
  },
  {
   "cell_type": "markdown",
   "id": "94c71639-1aaa-42eb-b501-8c46b12ede2f",
   "metadata": {},
   "source": [
    "First Error: system says that the list cannot be in tuple which is in the variable \"between_numbers\", it needs to be in slice\n",
    "\n",
    "Possible solution: change it to slice"
   ]
  },
  {
   "cell_type": "code",
   "execution_count": 6,
   "id": "561c3bf5-cf84-428b-b0fa-dc03a473f554",
   "metadata": {},
   "outputs": [
    {
     "name": "stdout",
     "output_type": "stream",
     "text": [
      "First: 1\n",
      "Middle: [2, 3, 4, 5]\n",
      "Last: 6\n"
     ]
    }
   ],
   "source": [
    "#make a list \n",
    "writeyourcodehere = [1,2,3,4,5,6]\n",
    "\n",
    "#start at the first index which is zero\n",
    "first_number = writeyourcodehere [0]\n",
    "\n",
    "#get the middle numbers in the list\n",
    "#utilize the slice feature which gets states where to start getting the element in the list and also where to stop getting the element\n",
    "between_numbers = writeyourcodehere [1:-1]\n",
    "\n",
    "#get the last number in the list\n",
    "last_number =writeyourcodehere [-1]\n",
    "\n",
    "print (\"First:\",first_number)\n",
    "print (\"Middle:\",between_numbers)\n",
    "print (\"Last:\",last_number)"
   ]
  },
  {
   "cell_type": "markdown",
   "id": "6863429c-7bca-4131-bce7-0094a681998d",
   "metadata": {},
   "source": [
    "First Run: Success but the output needs to be in horizontal"
   ]
  },
  {
   "cell_type": "code",
   "execution_count": 11,
   "id": "14e7297d-249b-4b8c-bb9f-6d37e9a258ee",
   "metadata": {},
   "outputs": [
    {
     "name": "stdout",
     "output_type": "stream",
     "text": [
      "First: 1     Middle: [2, 3, 4, 5]     Last: 6\n"
     ]
    }
   ],
   "source": [
    "#make a list \n",
    "writeyourcodehere = [1,2,3,4,5,6]\n",
    "\n",
    "#start at the first index which is zero\n",
    "first_number = writeyourcodehere [0]\n",
    "\n",
    "#get the middle numbers in the list\n",
    "#utilize the slice feature which gets states where to start getting the element in the list and also where to stop getting the element\n",
    "between_numbers = writeyourcodehere [1:-1]\n",
    "\n",
    "#get the last number in the list\n",
    "last_number =writeyourcodehere [-1]\n",
    "\n",
    "print (\"First:\",first_number ,\"   \" , \"Middle:\",between_numbers, \"   \" , \"Last:\",last_number)\n"
   ]
  },
  {
   "cell_type": "markdown",
   "id": "79e5ba11-158e-4a12-97f7-c7a51ce8d97f",
   "metadata": {},
   "source": [
    "Second Run: The output is now correct "
   ]
  }
 ],
 "metadata": {
  "kernelspec": {
   "display_name": "Python 3 (ipykernel)",
   "language": "python",
   "name": "python3"
  },
  "language_info": {
   "codemirror_mode": {
    "name": "ipython",
    "version": 3
   },
   "file_extension": ".py",
   "mimetype": "text/x-python",
   "name": "python",
   "nbconvert_exporter": "python",
   "pygments_lexer": "ipython3",
   "version": "3.12.4"
  }
 },
 "nbformat": 4,
 "nbformat_minor": 5
}
